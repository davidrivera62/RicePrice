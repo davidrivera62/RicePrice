{
 "cells": [
  {
   "cell_type": "code",
   "execution_count": 1,
   "metadata": {},
   "outputs": [],
   "source": [
    "import pandas as pd\n",
    "import requests\n",
    "from bs4 import BeautifulSoup\n",
    "import numpy as np\n",
    "from datetime import datetime\n",
    "import seaborn as sns\n",
    "import matplotlib.pyplot as plt\n",
    "#from tabulate import tabulate"
   ]
  },
  {
   "cell_type": "code",
   "execution_count": 2,
   "metadata": {},
   "outputs": [],
   "source": [
    "#Web Scraping - https://pythonprogramminglanguage.com/web-scraping-with-pandas-and-beautifulsoup/\n",
    "res = requests.get(\"http://www.fedearroz.com.co/new/precios.php\")\n",
    "soup = BeautifulSoup(res.content,'lxml')\n",
    "table = soup.find_all('table')[0] \n",
    "df = pd.read_html(str(table))\n",
    "#print( tabulate(df[0], headers='keys', tablefmt='psql') )"
   ]
  },
  {
   "cell_type": "code",
   "execution_count": 3,
   "metadata": {},
   "outputs": [],
   "source": [
    "#Data Wrangling\n",
    "arroz=df[0]\n",
    "arroz.columns = arroz.iloc[0]\n",
    "arroz = arroz.set_index(['Mes'])\n",
    "arroz = arroz.drop(['Mes'])\n",
    "arroz = arroz.rename(index={'Enero': '1', \n",
    "                            'Febrero': '2', \n",
    "                            'Marzo': '3', \n",
    "                            'Abril': '4', \n",
    "                            'Mayo': '5',\n",
    "                            'Junio': '6',\n",
    "                            'Julio': '7',\n",
    "                            'Agosto': '8',\n",
    "                            'Septiembre': '9',\n",
    "                            'Octubre': '10',\n",
    "                            'Noviembre': '11',\n",
    "                            'Diciembre': '12'})\n",
    "arroz = arroz.reset_index()\n",
    "arroz = pd.melt(arroz, id_vars=['Mes'],var_name='Year',value_name='Price')\n",
    "arroz = arroz.rename(columns={'Mes': 'Month'})\n",
    "arroz['Year'] = arroz['Year'].astype(int)\n",
    "arroz['Month'] = arroz['Month'].astype(int)\n",
    "arroz = arroz.dropna()\n",
    "\n",
    "#pd.to_datetime((df.Y*10000+df.M*100+df.D).apply(str),format='%Y%m%d')\n",
    "arroz['Date']=pd.to_datetime((arroz.Year*10000+arroz.Month*100+1).apply(str),format='%Y%m%d')\n",
    "\n",
    "arroz=arroz[['Date','Price']]\n",
    "arroz['Price']=arroz['Price']/1000\n",
    "\n",
    "arroz = arroz.set_index('Date')"
   ]
  },
  {
   "cell_type": "code",
   "execution_count": 14,
   "metadata": {},
   "outputs": [
    {
     "data": {
      "text/html": [
       "<div>\n",
       "<style scoped>\n",
       "    .dataframe tbody tr th:only-of-type {\n",
       "        vertical-align: middle;\n",
       "    }\n",
       "\n",
       "    .dataframe tbody tr th {\n",
       "        vertical-align: top;\n",
       "    }\n",
       "\n",
       "    .dataframe thead th {\n",
       "        text-align: right;\n",
       "    }\n",
       "</style>\n",
       "<table border=\"1\" class=\"dataframe\">\n",
       "  <thead>\n",
       "    <tr style=\"text-align: right;\">\n",
       "      <th></th>\n",
       "      <th>Price</th>\n",
       "    </tr>\n",
       "    <tr>\n",
       "      <th>Date</th>\n",
       "      <th></th>\n",
       "    </tr>\n",
       "  </thead>\n",
       "  <tbody>\n",
       "    <tr>\n",
       "      <th>2010-01-01</th>\n",
       "      <td>817.456</td>\n",
       "    </tr>\n",
       "    <tr>\n",
       "      <th>2010-02-01</th>\n",
       "      <td>884.395</td>\n",
       "    </tr>\n",
       "    <tr>\n",
       "      <th>2010-03-01</th>\n",
       "      <td>796.473</td>\n",
       "    </tr>\n",
       "    <tr>\n",
       "      <th>2010-04-01</th>\n",
       "      <td>787.395</td>\n",
       "    </tr>\n",
       "    <tr>\n",
       "      <th>2010-05-01</th>\n",
       "      <td>803.395</td>\n",
       "    </tr>\n",
       "    <tr>\n",
       "      <th>2010-06-01</th>\n",
       "      <td>853.903</td>\n",
       "    </tr>\n",
       "    <tr>\n",
       "      <th>2010-07-01</th>\n",
       "      <td>797.759</td>\n",
       "    </tr>\n",
       "    <tr>\n",
       "      <th>2010-08-01</th>\n",
       "      <td>816.705</td>\n",
       "    </tr>\n",
       "    <tr>\n",
       "      <th>2010-09-01</th>\n",
       "      <td>848.036</td>\n",
       "    </tr>\n",
       "    <tr>\n",
       "      <th>2010-10-01</th>\n",
       "      <td>874.151</td>\n",
       "    </tr>\n",
       "  </tbody>\n",
       "</table>\n",
       "</div>"
      ],
      "text/plain": [
       "              Price\n",
       "Date               \n",
       "2010-01-01  817.456\n",
       "2010-02-01  884.395\n",
       "2010-03-01  796.473\n",
       "2010-04-01  787.395\n",
       "2010-05-01  803.395\n",
       "2010-06-01  853.903\n",
       "2010-07-01  797.759\n",
       "2010-08-01  816.705\n",
       "2010-09-01  848.036\n",
       "2010-10-01  874.151"
      ]
     },
     "execution_count": 14,
     "metadata": {},
     "output_type": "execute_result"
    }
   ],
   "source": [
    "arroz.head(10)"
   ]
  },
  {
   "cell_type": "code",
   "execution_count": 15,
   "metadata": {},
   "outputs": [
    {
     "data": {
      "text/html": [
       "<div>\n",
       "<style scoped>\n",
       "    .dataframe tbody tr th:only-of-type {\n",
       "        vertical-align: middle;\n",
       "    }\n",
       "\n",
       "    .dataframe tbody tr th {\n",
       "        vertical-align: top;\n",
       "    }\n",
       "\n",
       "    .dataframe thead th {\n",
       "        text-align: right;\n",
       "    }\n",
       "</style>\n",
       "<table border=\"1\" class=\"dataframe\">\n",
       "  <thead>\n",
       "    <tr style=\"text-align: right;\">\n",
       "      <th></th>\n",
       "      <th>Price</th>\n",
       "    </tr>\n",
       "    <tr>\n",
       "      <th>Date</th>\n",
       "      <th></th>\n",
       "    </tr>\n",
       "  </thead>\n",
       "  <tbody>\n",
       "    <tr>\n",
       "      <th>2017-11-01</th>\n",
       "      <td>877.429</td>\n",
       "    </tr>\n",
       "    <tr>\n",
       "      <th>2017-12-01</th>\n",
       "      <td>864.571</td>\n",
       "    </tr>\n",
       "    <tr>\n",
       "      <th>2018-01-01</th>\n",
       "      <td>875.371</td>\n",
       "    </tr>\n",
       "    <tr>\n",
       "      <th>2018-02-01</th>\n",
       "      <td>895.089</td>\n",
       "    </tr>\n",
       "    <tr>\n",
       "      <th>2018-03-01</th>\n",
       "      <td>910.929</td>\n",
       "    </tr>\n",
       "    <tr>\n",
       "      <th>2018-04-01</th>\n",
       "      <td>919.643</td>\n",
       "    </tr>\n",
       "    <tr>\n",
       "      <th>2018-05-01</th>\n",
       "      <td>944.357</td>\n",
       "    </tr>\n",
       "    <tr>\n",
       "      <th>2018-06-01</th>\n",
       "      <td>950.000</td>\n",
       "    </tr>\n",
       "    <tr>\n",
       "      <th>2018-07-01</th>\n",
       "      <td>936.536</td>\n",
       "    </tr>\n",
       "    <tr>\n",
       "      <th>2018-08-01</th>\n",
       "      <td>925.381</td>\n",
       "    </tr>\n",
       "  </tbody>\n",
       "</table>\n",
       "</div>"
      ],
      "text/plain": [
       "              Price\n",
       "Date               \n",
       "2017-11-01  877.429\n",
       "2017-12-01  864.571\n",
       "2018-01-01  875.371\n",
       "2018-02-01  895.089\n",
       "2018-03-01  910.929\n",
       "2018-04-01  919.643\n",
       "2018-05-01  944.357\n",
       "2018-06-01  950.000\n",
       "2018-07-01  936.536\n",
       "2018-08-01  925.381"
      ]
     },
     "execution_count": 15,
     "metadata": {},
     "output_type": "execute_result"
    }
   ],
   "source": [
    "arroz.tail(10)"
   ]
  },
  {
   "cell_type": "code",
   "execution_count": 41,
   "metadata": {},
   "outputs": [
    {
     "data": {
      "text/plain": [
       "<Figure size 432x288 with 0 Axes>"
      ]
     },
     "metadata": {},
     "output_type": "display_data"
    },
    {
     "data": {
      "image/png": "[encoded data removed]",
      "text/plain": [
       "<Figure size 1080x504 with 2 Axes>"
      ]
     },
     "metadata": {},
     "output_type": "display_data"
    }
   ],
   "source": [
    "#Timeseries and Distribuition Plot\n",
    "\n",
    "fig = plt.figure()\n",
    "\n",
    "f, axs = plt.subplots(2,2,figsize=(15,7))\n",
    "\n",
    "plt.subplot(121)\n",
    "sns.lineplot(x=arroz.index, \n",
    "             y=\"Price\", \n",
    "             data=arroz)\n",
    "plt.title('Fedearroz Rice Price')\n",
    "plt.ylabel('Price ($)')\n",
    "\n",
    "plt.subplot(122)\n",
    "plot = sns.distplot(arroz.Price,\n",
    "                    kde=False,\n",
    "                    color=\"b\")\n",
    "plt.title('Fedearroz Rice Price Distribution')\n",
    "plt.ylabel('Price Frequency')\n",
    "\n",
    "plt.suptitle('Fedearroz Rice Price Analysis', fontsize=16)\n",
    "plt.show()\n"
   ]
  },
  {
   "cell_type": "code",
   "execution_count": null,
   "metadata": {},
   "outputs": [],
   "source": []
  }
 ],
 "metadata": {
  "kernelspec": {
   "display_name": "Python 3",
   "language": "python",
   "name": "python3"
  },
  "language_info": {
   "codemirror_mode": {
    "name": "ipython",
    "version": 3
   },
   "file_extension": ".py",
   "mimetype": "text/x-python",
   "name": "python",
   "nbconvert_exporter": "python",
   "pygments_lexer": "ipython3",
   "version": "3.6.5"
  }
 },
 "nbformat": 4,
 "nbformat_minor": 2
}
